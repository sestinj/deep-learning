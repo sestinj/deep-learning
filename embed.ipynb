{
 "cells": [
  {
   "cell_type": "code",
   "execution_count": 51,
   "metadata": {},
   "outputs": [
    {
     "data": {
      "text/plain": [
       "True"
      ]
     },
     "execution_count": 51,
     "metadata": {},
     "output_type": "execute_result"
    }
   ],
   "source": [
    "import torch\n",
    "from torch import nn\n",
    "from matplotlib import pyplot as plt\n",
    "import wandb\n",
    "import os\n",
    "\n",
    "os.environ[\"WANDB_SILENT\"] = \"true\"\n",
    "wandb.login()"
   ]
  },
  {
   "cell_type": "code",
   "execution_count": 52,
   "metadata": {},
   "outputs": [],
   "source": [
    "import re\n",
    "\n",
    "def dumb_tokenizer(text: str):\n",
    "    text = re.sub(\"\"\"[.,!?\"']\"\"\", \"\", text)\n",
    "    words = text.lower().split()\n",
    "    return words\n",
    "\n",
    "def list_join(l: list, item: any) -> list:\n",
    "    return [el for pair in zip([item] * len(l), l) for el in pair][1:]\n",
    "\n",
    "def better_tokenizer(text: str):\n",
    "    \"\"\"Now includes punctuation as tokens, as well as a capital letter modifier.\"\"\"\n",
    "    # Convert uppercase to modifier and lowercase\n",
    "    mod_text = \"\"\n",
    "    for char in text:\n",
    "        if char.isupper():\n",
    "            mod_text += \"~\"\n",
    "            mod_text += char.lower()\n",
    "        else:\n",
    "            mod_text += char\n",
    "\n",
    "    # Split by spaces\n",
    "    words = mod_text.split()\n",
    "\n",
    "    # Split further into punctuation\n",
    "    punc = [\",\", \".\", \":\", \";\", \"-\", \"'\", '\"', \"!\", \"?\", \"~\"] # tilda represents the capitalization modifier...sus choice\n",
    "\n",
    "    all_tokens = []\n",
    "    for word in words:\n",
    "        tokens = []\n",
    "        prev = \"\"\n",
    "        for i in range(len(word)):\n",
    "            char = word[i]\n",
    "            if char in punc:\n",
    "                tokens.append(prev)\n",
    "                prev = \"\"\n",
    "                tokens.append(char)\n",
    "            else:\n",
    "                prev += char\n",
    "\n",
    "        \n",
    "        all_tokens += tokens\n",
    "\n",
    "    return all_tokens\n",
    "\n",
    "default_tokenizer = dumb_tokenizer\n",
    "# better_tokenizer is making things awkward, so you might want to include spaces and new lines as tokens as well."
   ]
  },
  {
   "cell_type": "code",
   "execution_count": 53,
   "metadata": {},
   "outputs": [
    {
     "name": "stdout",
     "output_type": "stream",
     "text": [
      "Vocab Size:  4629\n",
      "torch.Size([73667, 8]) torch.Size([73667])\n",
      "torch.Size([73667, 16]) torch.Size([73667])\n"
     ]
    }
   ],
   "source": [
    "# Build the dataset\n",
    "\n",
    "def tokenize_file(tokenizer=default_tokenizer):\n",
    "    # First pass through file to get list\n",
    "    all_words = set([])\n",
    "    with open(\"data/tcitr.txt\", \"r\") as file:\n",
    "        for line in file:\n",
    "            all_words.update(tokenizer(line))\n",
    "\n",
    "    all_words.add(\"<PAD>\")\n",
    "\n",
    "    vocab_size = len(all_words)\n",
    "    print(\"Vocab Size: \", vocab_size)\n",
    "    word_indices = dict(zip(all_words, range(vocab_size)))\n",
    "    rev_word_indices = dict(zip(range(vocab_size), all_words))\n",
    "\n",
    "    # Pass through file again and get token indices\n",
    "    all_tokens = []\n",
    "    with open(\"data/tcitr.txt\", \"r\") as file:\n",
    "        for line in file:\n",
    "            indices = [word_indices[token] for token in tokenizer(line)]\n",
    "            all_tokens += indices\n",
    "    \n",
    "    return word_indices, rev_word_indices, all_tokens, vocab_size\n",
    "\n",
    "word_indices, rev_word_indices, all_tokens, vocab_size = tokenize_file(tokenizer=default_tokenizer)\n",
    "\n",
    "def build_dataset(seq_len=8):\n",
    "    # Sliding window\n",
    "    X, Y = [], []\n",
    "\n",
    "    cx = [word_indices[\"<PAD>\"]] * seq_len\n",
    "    for i in range(len(all_tokens)):\n",
    "        X.append(cx)\n",
    "        Y.append(all_tokens[i])\n",
    "\n",
    "        cx = cx[1:] + [all_tokens[i]]\n",
    "\n",
    "    X, Y = torch.tensor(X), torch.tensor(Y)\n",
    "    print(X.shape, Y.shape)\n",
    "\n",
    "    # train/val/test split\n",
    "    split1 = int(0.8 * X.shape[0])\n",
    "    split2 = int(0.9 * X.shape[0])\n",
    "    x = {\n",
    "        \"train\": X[:split1],\n",
    "        \"validate\": X[split1:split2],\n",
    "        \"test\": X[split2:]\n",
    "    }\n",
    "    y = {\n",
    "        \"train\": Y[:split1],\n",
    "        \"validate\": Y[split1:split2],\n",
    "        \"test\": Y[split2:]\n",
    "    }\n",
    "\n",
    "    return x, y\n",
    "\n",
    "x8, y8 = build_dataset(8)\n",
    "x16, y16 = build_dataset(16)"
   ]
  },
  {
   "cell_type": "code",
   "execution_count": 54,
   "metadata": {},
   "outputs": [],
   "source": [
    "class MLP(nn.Module):\n",
    "    def __init__(self, vocab_size: int, embed_dim=16, seq_len=8, hidden_dim=16):\n",
    "        super().__init__()\n",
    "        self.embed_dim = embed_dim\n",
    "        self.seq_len = seq_len\n",
    "        self.embedding = nn.Embedding(vocab_size, embed_dim)\n",
    "        self.linear1 = nn.Linear(seq_len * embed_dim, hidden_dim)\n",
    "        self.tanh = nn.Tanh()\n",
    "        self.linear2 = nn.Linear(hidden_dim, vocab_size)\n",
    "        self.softmax = nn.Softmax(dim=1)\n",
    "\n",
    "    def forward(self, words):\n",
    "        \"\"\"Input has shape (num_examples, seq_len)\"\"\"\n",
    "\n",
    "        # Check input is correct size\n",
    "        if words.shape[1] != self.seq_len:\n",
    "            raise Exception(\"Words input is not equal to seq_len of \" + str(self.seq_len))\n",
    "\n",
    "        # Retrieve embeddings, concatenate into NN input\n",
    "        X = self.embedding(words)\n",
    "        X = torch.flatten(X, 1) # Flatten everything except for the first dimension (represents the example)\n",
    "\n",
    "        # Pass through NN and softmax\n",
    "        a_1 = self.linear1(X)\n",
    "        z_1 = self.tanh(a_1)\n",
    "        a_2 = self.linear2(z_1)\n",
    "        probs = self.softmax(a_2)\n",
    "\n",
    "        return probs"
   ]
  },
  {
   "cell_type": "code",
   "execution_count": 55,
   "metadata": {},
   "outputs": [],
   "source": [
    "def prep_input(text: str, seq_len=8, tokenizer=default_tokenizer) -> list[int]:\n",
    "    indices = [word_indices[word] for word in tokenizer(text)]\n",
    "    indices = [word_indices[\"<PAD>\"]] * (seq_len - len(indices)) + indices\n",
    "    return torch.tensor([indices])\n",
    "\n",
    "def predict_next(prompt: str, model, count=1, seq_len=8) -> list[int]:\n",
    "    predictions = []\n",
    "    input = prep_input(prompt, seq_len=seq_len)\n",
    "    for _ in range(count):\n",
    "        # Calculate probs, sample\n",
    "        probs = model(input)\n",
    "        word = torch.multinomial(probs, 1).item()\n",
    "        predictions.append(word)\n",
    "\n",
    "        # Sliding window\n",
    "        input[:, :-1] = torch.clone(input[:, 1:])\n",
    "        input[:, -1] = torch.tensor([word])\n",
    "    \n",
    "    return predictions\n",
    "\n",
    "def display_words(words: list[int]) -> str:\n",
    "    mod_words = []\n",
    "    skip = False\n",
    "    for i in range(len(words) - 1):\n",
    "        if skip:\n",
    "            continue\n",
    "\n",
    "        if \"~\" in word_indices and words[i] == word_indices[\"~\"]:\n",
    "            word = rev_word_indices[words[i+1]]\n",
    "            skip = True\n",
    "            if len(word) == 0:\n",
    "                continue\n",
    "            elif len(word) == 1:\n",
    "                mod_words.append(word[0].upper())\n",
    "            else:\n",
    "                mod_words.append(word[0].upper() + word[1:])\n",
    "        else:\n",
    "            mod_words.append(rev_word_indices[words[i]])\n",
    "            skip = False\n",
    "            \n",
    "    return \" \".join(mod_words)\n",
    "\n",
    "def gen_predictions(prompt: str, model, n: int=1, count=16, seq_len=8):\n",
    "    for _ in range(n):\n",
    "        predictions = predict_next(prompt, model, count=count, seq_len=seq_len)\n",
    "        print(prompt + \" \" + display_words(predictions))"
   ]
  },
  {
   "cell_type": "code",
   "execution_count": 56,
   "metadata": {},
   "outputs": [],
   "source": [
    "def validate_model(model: nn.Module, x: dict[torch.tensor]=x8, y: dict[torch.tensor]=y8, split: str=\"validate\") -> float:\n",
    "    probs = model(x[split])\n",
    "    loss = -probs[torch.arange(probs.shape[0]), y[split]].log().mean()\n",
    "\n",
    "    return loss.item()"
   ]
  },
  {
   "cell_type": "code",
   "execution_count": 57,
   "metadata": {},
   "outputs": [],
   "source": [
    "def train_model(model: nn.Module, x: dict[torch.tensor]=x8, y: dict[torch.tensor]=y8, epochs: int=100, batch_size: int=2**13, lr: float=0.01, show_loss: int=1, graph_loss=False):\n",
    "    run = wandb.init(project=\"the_catcher_in_the_rye\", config={\n",
    "        \"batch_size\": batch_size,\n",
    "        \"learning_rate\": lr,\n",
    "        \"seq_len\": x[\"train\"].shape[1],\n",
    "        \"epochs\": epochs,\n",
    "        \"dataset\": \"the_catcher_in_the_rye\",\n",
    "        \"model\": model._get_name()\n",
    "    })\n",
    "    \n",
    "    opt = torch.optim.Adam(model.parameters(), lr=lr)\n",
    "    losses = []\n",
    "    for epoch in range(epochs):\n",
    "        loss = 0\n",
    "        model.zero_grad()\n",
    "\n",
    "        # Create mini-batch\n",
    "        batch_indices = torch.randint(0, x[\"train\"].shape[0], (batch_size,))\n",
    "        x_batch = x[\"train\"][batch_indices]\n",
    "        y_batch = y[\"train\"][batch_indices]\n",
    "\n",
    "        probs = model(x_batch)\n",
    "        loss += -probs[torch.arange(probs.shape[0]), y_batch].log().mean()\n",
    "        \n",
    "        loss.backward()\n",
    "        opt.step()\n",
    "\n",
    "        wandb.log({ \"loss\": loss.item() })\n",
    "        losses.append(loss.item())\n",
    "        if epoch % show_loss == 0:\n",
    "            print(f\"Epoch {epoch} Loss: {loss}\")\n",
    "        \n",
    "    print(\"Validation Loss: \", validate_model(model, x=x, y=y))\n",
    "    if show_loss:\n",
    "        plt.plot(torch.arange(len(losses)), losses)\n",
    "    \n",
    "    wandb.finish()\n",
    "    # run.display()"
   ]
  },
  {
   "cell_type": "code",
   "execution_count": 58,
   "metadata": {},
   "outputs": [
    {
     "data": {
      "text/html": [
       "Changes to your `wandb` environment variables will be ignored because your `wandb` session has already started. For more information on how to modify your settings with `wandb.init()` arguments, please refer to <a href=\"https://wandb.me/wandb-init\" target=\"_blank\">the W&B docs</a>."
      ],
      "text/plain": [
       "<IPython.core.display.HTML object>"
      ]
     },
     "metadata": {},
     "output_type": "display_data"
    },
    {
     "data": {
      "text/html": [
       "Tracking run with wandb version 0.13.7"
      ],
      "text/plain": [
       "<IPython.core.display.HTML object>"
      ]
     },
     "metadata": {},
     "output_type": "display_data"
    },
    {
     "data": {
      "text/html": [
       "Run data is saved locally in <code>/Users/natesesti/Desktop/ml/deep-learning/wandb/run-20221230_155615-3l68ffw0</code>"
      ],
      "text/plain": [
       "<IPython.core.display.HTML object>"
      ]
     },
     "metadata": {},
     "output_type": "display_data"
    },
    {
     "data": {
      "text/html": [
       "Syncing run <strong><a href=\"https://wandb.ai/sestinj/the_catcher_in_the_rye/runs/3l68ffw0\" target=\"_blank\">lilac-frost-19</a></strong> to <a href=\"https://wandb.ai/sestinj/the_catcher_in_the_rye\" target=\"_blank\">Weights & Biases</a> (<a href=\"https://wandb.me/run\" target=\"_blank\">docs</a>)<br/>"
      ],
      "text/plain": [
       "<IPython.core.display.HTML object>"
      ]
     },
     "metadata": {},
     "output_type": "display_data"
    },
    {
     "name": "stdout",
     "output_type": "stream",
     "text": [
      "Epoch 0 Loss: 8.485965728759766\n",
      "Epoch 100 Loss: 5.383853435516357\n",
      "Validation Loss:  5.799929141998291\n"
     ]
    },
    {
     "data": {
      "text/html": [
       "Waiting for W&B process to finish... <strong style=\"color:green\">(success).</strong>"
      ],
      "text/plain": [
       "<IPython.core.display.HTML object>"
      ]
     },
     "metadata": {},
     "output_type": "display_data"
    },
    {
     "data": {
      "text/html": [
       "<style>\n",
       "    table.wandb td:nth-child(1) { padding: 0 10px; text-align: left ; width: auto;} td:nth-child(2) {text-align: left ; width: 100%}\n",
       "    .wandb-row { display: flex; flex-direction: row; flex-wrap: wrap; justify-content: flex-start; width: 100% }\n",
       "    .wandb-col { display: flex; flex-direction: column; flex-basis: 100%; flex: 1; padding: 10px; }\n",
       "    </style>\n",
       "<div class=\"wandb-row\"><div class=\"wandb-col\"><h3>Run history:</h3><br/><table class=\"wandb\"><tr><td>loss</td><td>█▇▅▄▄▄▄▄▃▃▃▃▃▃▃▃▃▃▃▂▂▂▂▂▂▂▂▂▂▂▂▁▁▁▁▁▁▁▁▁</td></tr></table><br/></div><div class=\"wandb-col\"><h3>Run summary:</h3><br/><table class=\"wandb\"><tr><td>loss</td><td>4.72218</td></tr></table><br/></div></div>"
      ],
      "text/plain": [
       "<IPython.core.display.HTML object>"
      ]
     },
     "metadata": {},
     "output_type": "display_data"
    },
    {
     "data": {
      "text/html": [
       "Synced <strong style=\"color:#cdcd00\">lilac-frost-19</strong>: <a href=\"https://wandb.ai/sestinj/the_catcher_in_the_rye/runs/3l68ffw0\" target=\"_blank\">https://wandb.ai/sestinj/the_catcher_in_the_rye/runs/3l68ffw0</a><br/>Synced 5 W&B file(s), 0 media file(s), 0 artifact file(s) and 0 other file(s)"
      ],
      "text/plain": [
       "<IPython.core.display.HTML object>"
      ]
     },
     "metadata": {},
     "output_type": "display_data"
    },
    {
     "data": {
      "text/html": [
       "Find logs at: <code>./wandb/run-20221230_155615-3l68ffw0/logs</code>"
      ],
      "text/plain": [
       "<IPython.core.display.HTML object>"
      ]
     },
     "metadata": {},
     "output_type": "display_data"
    },
    {
     "data": {
      "image/png": "[encoded data removed]",
      "text/plain": [
       "<Figure size 640x480 with 1 Axes>"
      ]
     },
     "metadata": {},
     "output_type": "display_data"
    }
   ],
   "source": [
    "mlp_sm = MLP(vocab_size, embed_dim=16, seq_len=8, hidden_dim=32)\n",
    "train_model(mlp_sm, epochs=200, batch_size=2**12, lr=0.01, show_loss=100)"
   ]
  },
  {
   "cell_type": "code",
   "execution_count": 59,
   "metadata": {},
   "outputs": [
    {
     "data": {
      "text/html": [
       "Changes to your `wandb` environment variables will be ignored because your `wandb` session has already started. For more information on how to modify your settings with `wandb.init()` arguments, please refer to <a href=\"https://wandb.me/wandb-init\" target=\"_blank\">the W&B docs</a>."
      ],
      "text/plain": [
       "<IPython.core.display.HTML object>"
      ]
     },
     "metadata": {},
     "output_type": "display_data"
    },
    {
     "data": {
      "text/html": [
       "Tracking run with wandb version 0.13.7"
      ],
      "text/plain": [
       "<IPython.core.display.HTML object>"
      ]
     },
     "metadata": {},
     "output_type": "display_data"
    },
    {
     "data": {
      "text/html": [
       "Run data is saved locally in <code>/Users/natesesti/Desktop/ml/deep-learning/wandb/run-20221230_155628-8ulkuxoa</code>"
      ],
      "text/plain": [
       "<IPython.core.display.HTML object>"
      ]
     },
     "metadata": {},
     "output_type": "display_data"
    },
    {
     "data": {
      "text/html": [
       "Syncing run <strong><a href=\"https://wandb.ai/sestinj/the_catcher_in_the_rye/runs/8ulkuxoa\" target=\"_blank\">dutiful-monkey-20</a></strong> to <a href=\"https://wandb.ai/sestinj/the_catcher_in_the_rye\" target=\"_blank\">Weights & Biases</a> (<a href=\"https://wandb.me/run\" target=\"_blank\">docs</a>)<br/>"
      ],
      "text/plain": [
       "<IPython.core.display.HTML object>"
      ]
     },
     "metadata": {},
     "output_type": "display_data"
    },
    {
     "name": "stdout",
     "output_type": "stream",
     "text": [
      "Epoch 0 Loss: 8.462543487548828\n",
      "Epoch 50 Loss: 4.991775989532471\n",
      "Epoch 100 Loss: 4.3499226570129395\n",
      "Epoch 150 Loss: 4.049247741699219\n",
      "Epoch 200 Loss: 3.579340934753418\n",
      "Epoch 250 Loss: 3.5384445190429688\n",
      "Epoch 300 Loss: 3.1705708503723145\n",
      "Epoch 350 Loss: 2.9606375694274902\n",
      "Epoch 400 Loss: 2.766292095184326\n",
      "Epoch 450 Loss: 2.405715227127075\n",
      "Validation Loss:  8.707290649414062\n"
     ]
    },
    {
     "data": {
      "text/html": [
       "Waiting for W&B process to finish... <strong style=\"color:green\">(success).</strong>"
      ],
      "text/plain": [
       "<IPython.core.display.HTML object>"
      ]
     },
     "metadata": {},
     "output_type": "display_data"
    },
    {
     "data": {
      "text/html": [
       "<style>\n",
       "    table.wandb td:nth-child(1) { padding: 0 10px; text-align: left ; width: auto;} td:nth-child(2) {text-align: left ; width: 100%}\n",
       "    .wandb-row { display: flex; flex-direction: row; flex-wrap: wrap; justify-content: flex-start; width: 100% }\n",
       "    .wandb-col { display: flex; flex-direction: column; flex-basis: 100%; flex: 1; padding: 10px; }\n",
       "    </style>\n",
       "<div class=\"wandb-row\"><div class=\"wandb-col\"><h3>Run history:</h3><br/><table class=\"wandb\"><tr><td>loss</td><td>█▆▆▅▅▅▄▄▄▄▄▃▃▃▃▃▃▃▃▃▃▂▂▂▂▂▂▂▂▂▂▂▂▂▁▁▁▁▁▁</td></tr></table><br/></div><div class=\"wandb-col\"><h3>Run summary:</h3><br/><table class=\"wandb\"><tr><td>loss</td><td>2.29106</td></tr></table><br/></div></div>"
      ],
      "text/plain": [
       "<IPython.core.display.HTML object>"
      ]
     },
     "metadata": {},
     "output_type": "display_data"
    },
    {
     "data": {
      "text/html": [
       "Synced <strong style=\"color:#cdcd00\">dutiful-monkey-20</strong>: <a href=\"https://wandb.ai/sestinj/the_catcher_in_the_rye/runs/8ulkuxoa\" target=\"_blank\">https://wandb.ai/sestinj/the_catcher_in_the_rye/runs/8ulkuxoa</a><br/>Synced 5 W&B file(s), 0 media file(s), 0 artifact file(s) and 0 other file(s)"
      ],
      "text/plain": [
       "<IPython.core.display.HTML object>"
      ]
     },
     "metadata": {},
     "output_type": "display_data"
    },
    {
     "data": {
      "text/html": [
       "Find logs at: <code>./wandb/run-20221230_155628-8ulkuxoa/logs</code>"
      ],
      "text/plain": [
       "<IPython.core.display.HTML object>"
      ]
     },
     "metadata": {},
     "output_type": "display_data"
    },
    {
     "data": {
      "image/png": "[encoded data removed]",
      "text/plain": [
       "<Figure size 640x480 with 1 Axes>"
      ]
     },
     "metadata": {},
     "output_type": "display_data"
    }
   ],
   "source": [
    "mlp_md = MLP(vocab_size, embed_dim=16, seq_len=8, hidden_dim=1024)\n",
    "train_model(mlp_md, epochs=500, batch_size=2**10, lr=0.005, show_loss=50)\n"
   ]
  },
  {
   "cell_type": "code",
   "execution_count": 60,
   "metadata": {},
   "outputs": [
    {
     "name": "stdout",
     "output_type": "stream",
     "text": [
      "hello my name is of hell out of it especially my father a big guy with her when and\n",
      "hello my name is jim steele hed never said old spencer probably liked him it i said its only\n",
      "hello my name is of five bucks it had a speech sallys would and at old mrs hayes in\n",
      "hello my name is ten somewhere you will to nine at the family time he ever sat you say\n",
      "hello my name is he was the sonuvabitch hes dont about up but you started christ it all i\n",
      "Validation:  8.707290649414062\n",
      "Test:  2.2411887645721436\n"
     ]
    }
   ],
   "source": [
    "gen_predictions(\"hello my name is\", mlp_md, 5)\n",
    "print(\"Validation: \", validate_model(mlp_md))\n",
    "print(\"Test: \", validate_model(mlp_md, split=\"train\"))"
   ]
  },
  {
   "cell_type": "code",
   "execution_count": 61,
   "metadata": {},
   "outputs": [
    {
     "data": {
      "text/html": [
       "Changes to your `wandb` environment variables will be ignored because your `wandb` session has already started. For more information on how to modify your settings with `wandb.init()` arguments, please refer to <a href=\"https://wandb.me/wandb-init\" target=\"_blank\">the W&B docs</a>."
      ],
      "text/plain": [
       "<IPython.core.display.HTML object>"
      ]
     },
     "metadata": {},
     "output_type": "display_data"
    },
    {
     "data": {
      "text/html": [
       "Tracking run with wandb version 0.13.7"
      ],
      "text/plain": [
       "<IPython.core.display.HTML object>"
      ]
     },
     "metadata": {},
     "output_type": "display_data"
    },
    {
     "data": {
      "text/html": [
       "Run data is saved locally in <code>/Users/natesesti/Desktop/ml/deep-learning/wandb/run-20221230_155653-39rfjw1k</code>"
      ],
      "text/plain": [
       "<IPython.core.display.HTML object>"
      ]
     },
     "metadata": {},
     "output_type": "display_data"
    },
    {
     "data": {
      "text/html": [
       "Syncing run <strong><a href=\"https://wandb.ai/sestinj/the_catcher_in_the_rye/runs/39rfjw1k\" target=\"_blank\">lunar-sound-21</a></strong> to <a href=\"https://wandb.ai/sestinj/the_catcher_in_the_rye\" target=\"_blank\">Weights & Biases</a> (<a href=\"https://wandb.me/run\" target=\"_blank\">docs</a>)<br/>"
      ],
      "text/plain": [
       "<IPython.core.display.HTML object>"
      ]
     },
     "metadata": {},
     "output_type": "display_data"
    },
    {
     "name": "stdout",
     "output_type": "stream",
     "text": [
      "Epoch 0 Loss: 8.461257934570312\n",
      "Epoch 50 Loss: 5.462352752685547\n",
      "Epoch 100 Loss: 4.648581504821777\n",
      "Epoch 150 Loss: 4.456268787384033\n",
      "Validation Loss:  9.677276611328125\n"
     ]
    },
    {
     "data": {
      "text/html": [
       "Waiting for W&B process to finish... <strong style=\"color:green\">(success).</strong>"
      ],
      "text/plain": [
       "<IPython.core.display.HTML object>"
      ]
     },
     "metadata": {},
     "output_type": "display_data"
    },
    {
     "data": {
      "text/html": [
       "<style>\n",
       "    table.wandb td:nth-child(1) { padding: 0 10px; text-align: left ; width: auto;} td:nth-child(2) {text-align: left ; width: 100%}\n",
       "    .wandb-row { display: flex; flex-direction: row; flex-wrap: wrap; justify-content: flex-start; width: 100% }\n",
       "    .wandb-col { display: flex; flex-direction: column; flex-basis: 100%; flex: 1; padding: 10px; }\n",
       "    </style>\n",
       "<div class=\"wandb-row\"><div class=\"wandb-col\"><h3>Run history:</h3><br/><table class=\"wandb\"><tr><td>loss</td><td>█▇▇▇▆▅▄▅▄▄▃▃▃▃▃▃▂▂▂▂▂▂▂▂▂▂▂▁▂▂▂▁▁▁▁▂▁▁▁▁</td></tr></table><br/></div><div class=\"wandb-col\"><h3>Run summary:</h3><br/><table class=\"wandb\"><tr><td>loss</td><td>4.44234</td></tr></table><br/></div></div>"
      ],
      "text/plain": [
       "<IPython.core.display.HTML object>"
      ]
     },
     "metadata": {},
     "output_type": "display_data"
    },
    {
     "data": {
      "text/html": [
       "Synced <strong style=\"color:#cdcd00\">lunar-sound-21</strong>: <a href=\"https://wandb.ai/sestinj/the_catcher_in_the_rye/runs/39rfjw1k\" target=\"_blank\">https://wandb.ai/sestinj/the_catcher_in_the_rye/runs/39rfjw1k</a><br/>Synced 5 W&B file(s), 0 media file(s), 0 artifact file(s) and 0 other file(s)"
      ],
      "text/plain": [
       "<IPython.core.display.HTML object>"
      ]
     },
     "metadata": {},
     "output_type": "display_data"
    },
    {
     "data": {
      "text/html": [
       "Find logs at: <code>./wandb/run-20221230_155653-39rfjw1k/logs</code>"
      ],
      "text/plain": [
       "<IPython.core.display.HTML object>"
      ]
     },
     "metadata": {},
     "output_type": "display_data"
    },
    {
     "data": {
      "image/png": "[encoded data removed]",
      "text/plain": [
       "<Figure size 640x480 with 1 Axes>"
      ]
     },
     "metadata": {},
     "output_type": "display_data"
    }
   ],
   "source": [
    "mlp_lg = MLP(vocab_size, embed_dim=16, seq_len=16, hidden_dim=4096)\n",
    "train_model(mlp_lg, epochs=200, x=x16, y=y16, batch_size=2**10, lr=0.005, show_loss=50)"
   ]
  },
  {
   "cell_type": "code",
   "execution_count": 62,
   "metadata": {},
   "outputs": [
    {
     "name": "stdout",
     "output_type": "stream",
     "text": [
      "He's going to drive me was damn what i had a lot too except wanna funny and go anyways look\n"
     ]
    }
   ],
   "source": [
    "gen_predictions(\"He's going to drive me\", mlp_lg, seq_len=16)"
   ]
  },
  {
   "cell_type": "code",
   "execution_count": 63,
   "metadata": {},
   "outputs": [],
   "source": [
    "# Building up to more complicated models now. Start by transfering over your transformer models\n",
    "# Another experiment to run would be image captioning for image recognition interpretability\n",
    "\n",
    "class TorchRNN(nn.Module):\n",
    "    def __init__(self, vocab_size: int, seq_len: int=8, embed_dim: int=16):\n",
    "        super().__init__()\n",
    "        self.vocab_size = vocab_size\n",
    "        self.embed_dim = embed_dim\n",
    "        self.seq_len = seq_len\n",
    "\n",
    "        self.embedding = nn.Embedding(vocab_size, embed_dim)\n",
    "        self.rnn = nn.RNN(embed_dim, vocab_size, batch_first=True)\n",
    "        self.softmax = nn.Softmax(dim=1)\n",
    "    \n",
    "    def forward(self, X):\n",
    "        \"\"\"Input has shape (num_examples, seq_len)\"\"\"\n",
    "\n",
    "        # Check input is correct size\n",
    "        if X.shape[1] != self.seq_len:\n",
    "            raise Exception(\"Words input is not equal to seq_len of \" + str(self.seq_len))\n",
    "\n",
    "        x = self.embedding(X) # (num_examples, seq_len, embed_dim)\n",
    "        h_0 = torch.randn(1, x.shape[0], self.vocab_size) # (num_layers, num_examples, vocab_size)\n",
    "        output, _ = self.rnn(x, h_0) # (num_examples, seq_len, vocab_size)\n",
    "\n",
    "        output = output[:, -1, :] # Because only want last output\n",
    "\n",
    "        probs = self.softmax(output)\n",
    "        return probs\n",
    "\n",
    "class RNN(nn.Module):\n",
    "    def __init__(self, vocab_size: int, seq_len: int=8, embed_dim: int=16):\n",
    "        super().__init__()\n",
    "        self.vocab_size = vocab_size\n",
    "        self.seq_len = seq_len\n",
    "\n",
    "        self.embedding = nn.Embedding(vocab_size, embed_dim)\n",
    "\n",
    "        self.W_hh = nn.Parameter(torch.randn(vocab_size, vocab_size))\n",
    "        self.W_xh = nn.Parameter(torch.randn(vocab_size, embed_dim))\n",
    "        self.W_hy = nn.Parameter(torch.randn(vocab_size, vocab_size))\n",
    "        self.W_xy = nn.Parameter(torch.randn(vocab_size, embed_dim))\n",
    "\n",
    "        self.bias_h = nn.Parameter(torch.randn(vocab_size, 1))\n",
    "        self.bias_y = nn.Parameter(torch.randn(vocab_size, 1))\n",
    "        self.softmax = nn.Softmax(dim=0)\n",
    "        self.tanh = nn.Tanh()\n",
    "\n",
    "    # x should be a one-hot vector\n",
    "    def forward(self, X):\n",
    "        \"\"\"Input has shape (num_examples, seq_len)\"\"\"\n",
    "\n",
    "        # Check input is correct size\n",
    "        if X.shape[1] != self.seq_len:\n",
    "            raise Exception(\"Words input is not equal to seq_len of \" + str(self.seq_len))\n",
    "\n",
    "        x = self.embedding(X) # (num_examples, seq_len, embed_dim)\n",
    "\n",
    "        h_prev = torch.randn(x.shape[0], self.vocab_size, 1) # (num_examples, vocab_size, 1) Why is this vocab_size and not embed_dim??\n",
    "        y = torch.empty(x.shape[0], self.seq_len, self.vocab_size) # (num_examples, seq_len, vocab_size)\n",
    "        for t in range(self.seq_len):\n",
    "            x_t = x[:, t, :].unsqueeze(dim=-1) # (num_examples, embed_dim, 1)\n",
    "            h_t = self.tanh(self.W_hh @ h_prev + self.W_xh @ x_t + self.bias_h)\n",
    "            y_t = self.tanh(self.W_hy @ h_prev + self.W_xy @ x_t + self.bias_y).squeeze(dim=-1) # (num_examples, vocab_size, 1) then squeeze the last dim out\n",
    "\n",
    "            y[:, t, :] = y_t\n",
    "            h_prev = h_t\n",
    "\n",
    "        return self.softmax(y[:, -1, :]) # only want last output, but we practice calculating the rest"
   ]
  },
  {
   "cell_type": "code",
   "execution_count": 64,
   "metadata": {},
   "outputs": [],
   "source": [
    "torch_rnn = TorchRNN(vocab_size=vocab_size, seq_len=8, embed_dim=16)"
   ]
  },
  {
   "cell_type": "code",
   "execution_count": 65,
   "metadata": {},
   "outputs": [
    {
     "data": {
      "text/html": [
       "Changes to your `wandb` environment variables will be ignored because your `wandb` session has already started. For more information on how to modify your settings with `wandb.init()` arguments, please refer to <a href=\"https://wandb.me/wandb-init\" target=\"_blank\">the W&B docs</a>."
      ],
      "text/plain": [
       "<IPython.core.display.HTML object>"
      ]
     },
     "metadata": {},
     "output_type": "display_data"
    },
    {
     "data": {
      "text/html": [
       "Tracking run with wandb version 0.13.7"
      ],
      "text/plain": [
       "<IPython.core.display.HTML object>"
      ]
     },
     "metadata": {},
     "output_type": "display_data"
    },
    {
     "data": {
      "text/html": [
       "Run data is saved locally in <code>/Users/natesesti/Desktop/ml/deep-learning/wandb/run-20221230_155723-35ynww95</code>"
      ],
      "text/plain": [
       "<IPython.core.display.HTML object>"
      ]
     },
     "metadata": {},
     "output_type": "display_data"
    },
    {
     "data": {
      "text/html": [
       "Syncing run <strong><a href=\"https://wandb.ai/sestinj/the_catcher_in_the_rye/runs/35ynww95\" target=\"_blank\">pious-star-22</a></strong> to <a href=\"https://wandb.ai/sestinj/the_catcher_in_the_rye\" target=\"_blank\">Weights & Biases</a> (<a href=\"https://wandb.me/run\" target=\"_blank\">docs</a>)<br/>"
      ],
      "text/plain": [
       "<IPython.core.display.HTML object>"
      ]
     },
     "metadata": {},
     "output_type": "display_data"
    },
    {
     "name": "stdout",
     "output_type": "stream",
     "text": [
      "Epoch 0 Loss: 8.442811965942383\n",
      "Epoch 20 Loss: 8.869989395141602\n",
      "Epoch 40 Loss: 8.879409790039062\n",
      "Epoch 60 Loss: 8.849993705749512\n",
      "Epoch 80 Loss: 8.801597595214844\n",
      "Epoch 100 Loss: 8.92184829711914\n",
      "Epoch 120 Loss: 8.874359130859375\n",
      "Epoch 140 Loss: 8.83447551727295\n",
      "Epoch 160 Loss: 8.82943058013916\n",
      "Epoch 180 Loss: 8.830862998962402\n",
      "Validation Loss:  8.870094299316406\n"
     ]
    },
    {
     "data": {
      "text/html": [
       "Waiting for W&B process to finish... <strong style=\"color:green\">(success).</strong>"
      ],
      "text/plain": [
       "<IPython.core.display.HTML object>"
      ]
     },
     "metadata": {},
     "output_type": "display_data"
    },
    {
     "data": {
      "text/html": [
       "<style>\n",
       "    table.wandb td:nth-child(1) { padding: 0 10px; text-align: left ; width: auto;} td:nth-child(2) {text-align: left ; width: 100%}\n",
       "    .wandb-row { display: flex; flex-direction: row; flex-wrap: wrap; justify-content: flex-start; width: 100% }\n",
       "    .wandb-col { display: flex; flex-direction: column; flex-basis: 100%; flex: 1; padding: 10px; }\n",
       "    </style>\n",
       "<div class=\"wandb-row\"><div class=\"wandb-col\"><h3>Run history:</h3><br/><table class=\"wandb\"><tr><td>loss</td><td>▁▆▆▇██▇▇▇▇▆▇▇▇▇▇▇▆▇▇▇▇▇▆▇▇▇▇▆▇▆▇▇▇▇▇▆▇▇▇</td></tr></table><br/></div><div class=\"wandb-col\"><h3>Run summary:</h3><br/><table class=\"wandb\"><tr><td>loss</td><td>8.87731</td></tr></table><br/></div></div>"
      ],
      "text/plain": [
       "<IPython.core.display.HTML object>"
      ]
     },
     "metadata": {},
     "output_type": "display_data"
    },
    {
     "data": {
      "text/html": [
       "Synced <strong style=\"color:#cdcd00\">pious-star-22</strong>: <a href=\"https://wandb.ai/sestinj/the_catcher_in_the_rye/runs/35ynww95\" target=\"_blank\">https://wandb.ai/sestinj/the_catcher_in_the_rye/runs/35ynww95</a><br/>Synced 5 W&B file(s), 0 media file(s), 0 artifact file(s) and 0 other file(s)"
      ],
      "text/plain": [
       "<IPython.core.display.HTML object>"
      ]
     },
     "metadata": {},
     "output_type": "display_data"
    },
    {
     "data": {
      "text/html": [
       "Find logs at: <code>./wandb/run-20221230_155723-35ynww95/logs</code>"
      ],
      "text/plain": [
       "<IPython.core.display.HTML object>"
      ]
     },
     "metadata": {},
     "output_type": "display_data"
    },
    {
     "data": {
      "image/png": "[encoded data removed]",
      "text/plain": [
       "<Figure size 640x480 with 1 Axes>"
      ]
     },
     "metadata": {},
     "output_type": "display_data"
    }
   ],
   "source": [
    "train_model(torch_rnn, epochs=200, lr=0.01, batch_size=2**9, show_loss=20, graph_loss=True)"
   ]
  },
  {
   "cell_type": "code",
   "execution_count": 66,
   "metadata": {},
   "outputs": [],
   "source": [
    "my_rnn = RNN(vocab_size=vocab_size, seq_len=8, embed_dim=16) # Might be able to reduce embed_dim"
   ]
  },
  {
   "cell_type": "code",
   "execution_count": 67,
   "metadata": {},
   "outputs": [
    {
     "data": {
      "text/html": [
       "Changes to your `wandb` environment variables will be ignored because your `wandb` session has already started. For more information on how to modify your settings with `wandb.init()` arguments, please refer to <a href=\"https://wandb.me/wandb-init\" target=\"_blank\">the W&B docs</a>."
      ],
      "text/plain": [
       "<IPython.core.display.HTML object>"
      ]
     },
     "metadata": {},
     "output_type": "display_data"
    },
    {
     "data": {
      "text/html": [
       "Tracking run with wandb version 0.13.7"
      ],
      "text/plain": [
       "<IPython.core.display.HTML object>"
      ]
     },
     "metadata": {},
     "output_type": "display_data"
    },
    {
     "data": {
      "text/html": [
       "Run data is saved locally in <code>/Users/natesesti/Desktop/ml/deep-learning/wandb/run-20221230_155915-ind6stfv</code>"
      ],
      "text/plain": [
       "<IPython.core.display.HTML object>"
      ]
     },
     "metadata": {},
     "output_type": "display_data"
    },
    {
     "data": {
      "text/html": [
       "Syncing run <strong><a href=\"https://wandb.ai/sestinj/the_catcher_in_the_rye/runs/ind6stfv\" target=\"_blank\">lyric-brook-23</a></strong> to <a href=\"https://wandb.ai/sestinj/the_catcher_in_the_rye\" target=\"_blank\">Weights & Biases</a> (<a href=\"https://wandb.me/run\" target=\"_blank\">docs</a>)<br/>"
      ],
      "text/plain": [
       "<IPython.core.display.HTML object>"
      ]
     },
     "metadata": {},
     "output_type": "display_data"
    },
    {
     "name": "stdout",
     "output_type": "stream",
     "text": [
      "Epoch 0 Loss: 7.372585296630859\n",
      "Epoch 20 Loss: 7.385770797729492\n",
      "Epoch 40 Loss: 7.3140740394592285\n",
      "Epoch 60 Loss: 7.397337913513184\n",
      "Epoch 80 Loss: 7.309211254119873\n",
      "Validation Loss:  9.307317733764648\n"
     ]
    },
    {
     "data": {
      "text/html": [
       "Waiting for W&B process to finish... <strong style=\"color:green\">(success).</strong>"
      ],
      "text/plain": [
       "<IPython.core.display.HTML object>"
      ]
     },
     "metadata": {},
     "output_type": "display_data"
    },
    {
     "data": {
      "text/html": [
       "<style>\n",
       "    table.wandb td:nth-child(1) { padding: 0 10px; text-align: left ; width: auto;} td:nth-child(2) {text-align: left ; width: 100%}\n",
       "    .wandb-row { display: flex; flex-direction: row; flex-wrap: wrap; justify-content: flex-start; width: 100% }\n",
       "    .wandb-col { display: flex; flex-direction: column; flex-basis: 100%; flex: 1; padding: 10px; }\n",
       "    </style>\n",
       "<div class=\"wandb-row\"><div class=\"wandb-col\"><h3>Run history:</h3><br/><table class=\"wandb\"><tr><td>loss</td><td>▅▅▄▂▂▆▄▄▆▄▃▃▅▃▂█▁▆▅▆▃▃▄▂▇▁▃▄▃▇▃▄▅█▂█▅▅▃▄</td></tr></table><br/></div><div class=\"wandb-col\"><h3>Run summary:</h3><br/><table class=\"wandb\"><tr><td>loss</td><td>7.35258</td></tr></table><br/></div></div>"
      ],
      "text/plain": [
       "<IPython.core.display.HTML object>"
      ]
     },
     "metadata": {},
     "output_type": "display_data"
    },
    {
     "data": {
      "text/html": [
       "Synced <strong style=\"color:#cdcd00\">lyric-brook-23</strong>: <a href=\"https://wandb.ai/sestinj/the_catcher_in_the_rye/runs/ind6stfv\" target=\"_blank\">https://wandb.ai/sestinj/the_catcher_in_the_rye/runs/ind6stfv</a><br/>Synced 5 W&B file(s), 0 media file(s), 0 artifact file(s) and 0 other file(s)"
      ],
      "text/plain": [
       "<IPython.core.display.HTML object>"
      ]
     },
     "metadata": {},
     "output_type": "display_data"
    },
    {
     "data": {
      "text/html": [
       "Find logs at: <code>./wandb/run-20221230_155915-ind6stfv/logs</code>"
      ],
      "text/plain": [
       "<IPython.core.display.HTML object>"
      ]
     },
     "metadata": {},
     "output_type": "display_data"
    },
    {
     "data": {
      "image/png": "[encoded data removed]",
      "text/plain": [
       "<Figure size 640x480 with 1 Axes>"
      ]
     },
     "metadata": {},
     "output_type": "display_data"
    }
   ],
   "source": [
    "train_model(my_rnn, epochs=100, lr=0.01, batch_size=2**10, show_loss=20, graph_loss=True)"
   ]
  },
  {
   "cell_type": "code",
   "execution_count": 68,
   "metadata": {},
   "outputs": [
    {
     "name": "stdout",
     "output_type": "stream",
     "text": [
      "They advertise in about a thousand henry kill dive gallaghers remembered sadistic jobs less blasé suspect pleasure trains dopy an colleges\n",
      "They advertise in about a thousand sutton guns guts respectfully somerset chop loud he--are would finger asses--really generally cop peaks fur-\n",
      "They advertise in about a thousand husband frock fitzgerald stood bunk rained pennsylvania gay lemme pictures enlightening canada eyebrows force anglo-saxons\n",
      "They advertise in about a thousand fly guys lynn deal adviser guy--he lawyer--like account cases some detective howve likely allowed broke-into\n",
      "They advertise in about a thousand cooper hoping premature 4b-1 blind -but conceited--and calling lake--i mrs combing had spy anywheres clavichord\n"
     ]
    }
   ],
   "source": [
    "gen_predictions(\"They advertise in about a thousand\", my_rnn, n=5)\n",
    "# Something seriously wrong here, but same thing is wrong with the PyTorch RNN, so it's probably that you're feeding data incorrectlly."
   ]
  },
  {
   "cell_type": "code",
   "execution_count": 69,
   "metadata": {},
   "outputs": [],
   "source": [
    "class TorchGRU(nn.Module):\n",
    "    def __init__(self, vocab_size: int, seq_len: int=8, embed_dim: int=16):\n",
    "        super().__init__()\n",
    "        self.vocab_size = vocab_size\n",
    "        self.embed_dim = embed_dim\n",
    "        self.seq_len = seq_len\n",
    "\n",
    "        self.embedding = nn.Embedding(vocab_size, embed_dim)\n",
    "        self.gru = nn.GRU(embed_dim, vocab_size, batch_first=True)\n",
    "        self.softmax = nn.Softmax(dim=1)\n",
    "    \n",
    "    def forward(self, X):\n",
    "        \"\"\"Input has shape (num_examples, seq_len)\"\"\"\n",
    "\n",
    "        # Check input is correct size\n",
    "        if X.shape[1] != self.seq_len:\n",
    "            raise Exception(\"Words input is not equal to seq_len of \" + str(self.seq_len))\n",
    "\n",
    "        x = self.embedding(X) # (num_examples, seq_len, embed_dim)\n",
    "        h_0 = torch.randn(1, x.shape[0], self.vocab_size) # (num_layers, num_examples, vocab_size)\n",
    "        output, _ = self.gru(x, h_0) # (num_examples, seq_len, vocab_size)\n",
    "\n",
    "        output = output[:, -1, :] # Because only want last output\n",
    "\n",
    "        probs = self.softmax(output)\n",
    "        return probs\n",
    "\n",
    "class TorchLSTM(nn.Module):\n",
    "    def __init__(self, vocab_size: int, seq_len: int=8, embed_dim: int=16):\n",
    "        super().__init__()\n",
    "        self.vocab_size = vocab_size\n",
    "        self.embed_dim = embed_dim\n",
    "        self.seq_len = seq_len\n",
    "\n",
    "        self.embedding = nn.Embedding(vocab_size, embed_dim)\n",
    "        self.lstm = nn.LSTM(embed_dim, vocab_size, batch_first=True)\n",
    "        self.softmax = nn.Softmax(dim=1)\n",
    "    \n",
    "    def forward(self, X):\n",
    "        \"\"\"Input has shape (num_examples, seq_len)\"\"\"\n",
    "\n",
    "        # Check input is correct size\n",
    "        if X.shape[1] != self.seq_len:\n",
    "            raise Exception(\"Words input is not equal to seq_len of \" + str(self.seq_len))\n",
    "\n",
    "        x = self.embedding(X) # (num_examples, seq_len, embed_dim)\n",
    "        h_0 = torch.randn(1, x.shape[0], self.vocab_size) # (num_layers, num_examples, vocab_size)\n",
    "        c_0 = torch.randn(1, x.shape[0], self.vocab_size) # (num_layers, num_examples, vocab_size)\n",
    "        output, _ = self.lstm(x, (h_0, c_0)) # (num_examples, seq_len, vocab_size)\n",
    "\n",
    "        output = output[:, -1, :] # Because only want last output\n",
    "\n",
    "        probs = self.softmax(output)\n",
    "        return probs"
   ]
  },
  {
   "cell_type": "code",
   "execution_count": 70,
   "metadata": {},
   "outputs": [],
   "source": [
    "torch_gru = TorchGRU(vocab_size=vocab_size, seq_len=8, embed_dim=16)\n",
    "torch_lstm = TorchLSTM(vocab_size=vocab_size, seq_len=8, embed_dim=16)"
   ]
  },
  {
   "cell_type": "code",
   "execution_count": 71,
   "metadata": {},
   "outputs": [
    {
     "data": {
      "text/html": [
       "Changes to your `wandb` environment variables will be ignored because your `wandb` session has already started. For more information on how to modify your settings with `wandb.init()` arguments, please refer to <a href=\"https://wandb.me/wandb-init\" target=\"_blank\">the W&B docs</a>."
      ],
      "text/plain": [
       "<IPython.core.display.HTML object>"
      ]
     },
     "metadata": {},
     "output_type": "display_data"
    },
    {
     "data": {
      "text/html": [
       "Tracking run with wandb version 0.13.7"
      ],
      "text/plain": [
       "<IPython.core.display.HTML object>"
      ]
     },
     "metadata": {},
     "output_type": "display_data"
    },
    {
     "data": {
      "text/html": [
       "Run data is saved locally in <code>/Users/natesesti/Desktop/ml/deep-learning/wandb/run-20221230_160236-2d2z1gal</code>"
      ],
      "text/plain": [
       "<IPython.core.display.HTML object>"
      ]
     },
     "metadata": {},
     "output_type": "display_data"
    },
    {
     "data": {
      "text/html": [
       "Syncing run <strong><a href=\"https://wandb.ai/sestinj/the_catcher_in_the_rye/runs/2d2z1gal\" target=\"_blank\">wise-snowflake-24</a></strong> to <a href=\"https://wandb.ai/sestinj/the_catcher_in_the_rye\" target=\"_blank\">Weights & Biases</a> (<a href=\"https://wandb.me/run\" target=\"_blank\">docs</a>)<br/>"
      ],
      "text/plain": [
       "<IPython.core.display.HTML object>"
      ]
     },
     "metadata": {},
     "output_type": "display_data"
    },
    {
     "name": "stdout",
     "output_type": "stream",
     "text": [
      "Epoch 0 Loss: 8.43997573852539\n",
      "Epoch 20 Loss: 7.772549629211426\n",
      "Epoch 40 Loss: 7.638345241546631\n",
      "Epoch 60 Loss: 7.619706630706787\n",
      "Epoch 80 Loss: 7.456465721130371\n",
      "Validation Loss:  7.506031036376953\n"
     ]
    },
    {
     "data": {
      "text/html": [
       "Waiting for W&B process to finish... <strong style=\"color:green\">(success).</strong>"
      ],
      "text/plain": [
       "<IPython.core.display.HTML object>"
      ]
     },
     "metadata": {},
     "output_type": "display_data"
    },
    {
     "data": {
      "text/html": [
       "<style>\n",
       "    table.wandb td:nth-child(1) { padding: 0 10px; text-align: left ; width: auto;} td:nth-child(2) {text-align: left ; width: 100%}\n",
       "    .wandb-row { display: flex; flex-direction: row; flex-wrap: wrap; justify-content: flex-start; width: 100% }\n",
       "    .wandb-col { display: flex; flex-direction: column; flex-basis: 100%; flex: 1; padding: 10px; }\n",
       "    </style>\n",
       "<div class=\"wandb-row\"><div class=\"wandb-col\"><h3>Run history:</h3><br/><table class=\"wandb\"><tr><td>loss</td><td>█▇█▇▅▅▄▃▃▃▃▃▃▂▂▂▂▂▂▂▂▂▂▂▂▂▂▂▁▂▂▂▂▂▂▁▁▁▁▁</td></tr></table><br/></div><div class=\"wandb-col\"><h3>Run summary:</h3><br/><table class=\"wandb\"><tr><td>loss</td><td>7.45053</td></tr></table><br/></div></div>"
      ],
      "text/plain": [
       "<IPython.core.display.HTML object>"
      ]
     },
     "metadata": {},
     "output_type": "display_data"
    },
    {
     "data": {
      "text/html": [
       "Synced <strong style=\"color:#cdcd00\">wise-snowflake-24</strong>: <a href=\"https://wandb.ai/sestinj/the_catcher_in_the_rye/runs/2d2z1gal\" target=\"_blank\">https://wandb.ai/sestinj/the_catcher_in_the_rye/runs/2d2z1gal</a><br/>Synced 5 W&B file(s), 0 media file(s), 0 artifact file(s) and 0 other file(s)"
      ],
      "text/plain": [
       "<IPython.core.display.HTML object>"
      ]
     },
     "metadata": {},
     "output_type": "display_data"
    },
    {
     "data": {
      "text/html": [
       "Find logs at: <code>./wandb/run-20221230_160236-2d2z1gal/logs</code>"
      ],
      "text/plain": [
       "<IPython.core.display.HTML object>"
      ]
     },
     "metadata": {},
     "output_type": "display_data"
    },
    {
     "data": {
      "image/png": "[encoded data removed]",
      "text/plain": [
       "<Figure size 640x480 with 1 Axes>"
      ]
     },
     "metadata": {},
     "output_type": "display_data"
    }
   ],
   "source": [
    "train_model(torch_gru, epochs=100, lr=0.01, show_loss=20, graph_loss=True, batch_size=2**9)"
   ]
  },
  {
   "cell_type": "code",
   "execution_count": 72,
   "metadata": {},
   "outputs": [
    {
     "data": {
      "text/html": [
       "Changes to your `wandb` environment variables will be ignored because your `wandb` session has already started. For more information on how to modify your settings with `wandb.init()` arguments, please refer to <a href=\"https://wandb.me/wandb-init\" target=\"_blank\">the W&B docs</a>."
      ],
      "text/plain": [
       "<IPython.core.display.HTML object>"
      ]
     },
     "metadata": {},
     "output_type": "display_data"
    },
    {
     "data": {
      "text/html": [
       "Tracking run with wandb version 0.13.7"
      ],
      "text/plain": [
       "<IPython.core.display.HTML object>"
      ]
     },
     "metadata": {},
     "output_type": "display_data"
    },
    {
     "data": {
      "text/html": [
       "Run data is saved locally in <code>/Users/natesesti/Desktop/ml/deep-learning/wandb/run-20221230_160528-ggf5xfen</code>"
      ],
      "text/plain": [
       "<IPython.core.display.HTML object>"
      ]
     },
     "metadata": {},
     "output_type": "display_data"
    },
    {
     "data": {
      "text/html": [
       "Syncing run <strong><a href=\"https://wandb.ai/sestinj/the_catcher_in_the_rye/runs/ggf5xfen\" target=\"_blank\">lunar-spaceship-25</a></strong> to <a href=\"https://wandb.ai/sestinj/the_catcher_in_the_rye\" target=\"_blank\">Weights & Biases</a> (<a href=\"https://wandb.me/run\" target=\"_blank\">docs</a>)<br/>"
      ],
      "text/plain": [
       "<IPython.core.display.HTML object>"
      ]
     },
     "metadata": {},
     "output_type": "display_data"
    },
    {
     "name": "stdout",
     "output_type": "stream",
     "text": [
      "Epoch 0 Loss: 8.440001487731934\n",
      "Epoch 20 Loss: 7.712592601776123\n",
      "Epoch 40 Loss: 7.685492515563965\n",
      "Epoch 60 Loss: 7.711413383483887\n",
      "Epoch 80 Loss: 7.6856865882873535\n",
      "Validation Loss:  7.700742244720459\n"
     ]
    },
    {
     "data": {
      "text/html": [
       "Waiting for W&B process to finish... <strong style=\"color:green\">(success).</strong>"
      ],
      "text/plain": [
       "<IPython.core.display.HTML object>"
      ]
     },
     "metadata": {},
     "output_type": "display_data"
    },
    {
     "data": {
      "text/html": [
       "<style>\n",
       "    table.wandb td:nth-child(1) { padding: 0 10px; text-align: left ; width: auto;} td:nth-child(2) {text-align: left ; width: 100%}\n",
       "    .wandb-row { display: flex; flex-direction: row; flex-wrap: wrap; justify-content: flex-start; width: 100% }\n",
       "    .wandb-col { display: flex; flex-direction: column; flex-basis: 100%; flex: 1; padding: 10px; }\n",
       "    </style>\n",
       "<div class=\"wandb-row\"><div class=\"wandb-col\"><h3>Run history:</h3><br/><table class=\"wandb\"><tr><td>loss</td><td>█▆▄▄▂▂▂▂▂▂▂▁▂▂▂▂▁▂▁▂▂▂▁▂▂▂▂▁▂▁▂▂▁▂▂▁▁▁▂▁</td></tr></table><br/></div><div class=\"wandb-col\"><h3>Run summary:</h3><br/><table class=\"wandb\"><tr><td>loss</td><td>7.65674</td></tr></table><br/></div></div>"
      ],
      "text/plain": [
       "<IPython.core.display.HTML object>"
      ]
     },
     "metadata": {},
     "output_type": "display_data"
    },
    {
     "data": {
      "text/html": [
       "Synced <strong style=\"color:#cdcd00\">lunar-spaceship-25</strong>: <a href=\"https://wandb.ai/sestinj/the_catcher_in_the_rye/runs/ggf5xfen\" target=\"_blank\">https://wandb.ai/sestinj/the_catcher_in_the_rye/runs/ggf5xfen</a><br/>Synced 5 W&B file(s), 0 media file(s), 0 artifact file(s) and 0 other file(s)"
      ],
      "text/plain": [
       "<IPython.core.display.HTML object>"
      ]
     },
     "metadata": {},
     "output_type": "display_data"
    },
    {
     "data": {
      "text/html": [
       "Find logs at: <code>./wandb/run-20221230_160528-ggf5xfen/logs</code>"
      ],
      "text/plain": [
       "<IPython.core.display.HTML object>"
      ]
     },
     "metadata": {},
     "output_type": "display_data"
    },
    {
     "data": {
      "image/png": "[encoded data removed]",
      "text/plain": [
       "<Figure size 640x480 with 1 Axes>"
      ]
     },
     "metadata": {},
     "output_type": "display_data"
    }
   ],
   "source": [
    "train_model(torch_lstm, epochs=100, lr=0.01, show_loss=20, graph_loss=True, batch_size=2**9)"
   ]
  },
  {
   "cell_type": "code",
   "execution_count": 73,
   "metadata": {},
   "outputs": [],
   "source": [
    "class GRU(nn.Module):\n",
    "    \"\"\"https://arxiv.org/pdf/1406.1078v3.pdf\"\"\"\n",
    "    def __init__(self, vocab_size: int, seq_len: int=8, embed_dim: int=16):\n",
    "        super().__init__()\n",
    "        self.vocab_size = vocab_size\n",
    "        self.embed_dim = embed_dim\n",
    "        self.seq_len = seq_len\n",
    "\n",
    "        self.embedding = nn.Embedding(vocab_size, embed_dim)\n",
    "\n",
    "        self.W_rx = nn.Parameter(torch.randn())\n",
    "\n",
    "        self.sigmoid = nn.Sigmoid()\n",
    "        self.softmax = nn.Softmax(dim=1)\n",
    "        self.tanh = nn.Tanh()\n",
    "    \n",
    "    def forward(self, X):\n",
    "        \"\"\"Input has shape (num_examples, seq_len)\"\"\"\n",
    "\n",
    "        # Check input is correct size\n",
    "        if X.shape[1] != self.seq_len:\n",
    "            raise Exception(\"Words input is not equal to seq_len of \" + str(self.seq_len))\n",
    "\n",
    "        x = self.embedding(X) # (num_examples, seq_len, embed_dim)\n",
    "\n",
    "\n",
    "        h_prev = torch.randn(x.shape[0], self.vocab_size, 1) # (num_examples, vocab_size, 1) Why is this vocab_size and not embed_dim??\n",
    "        for t in range(self.seq_len):\n",
    "            x_t = x[:, t, :].unsqueeze(dim=-1) # (num_examples, embed_dim, 1)\n",
    "\n",
    "            r_t = self.sigmoid(self.W_rx @ x_t + self.W_rh @ h_prev + self.bias_r)\n",
    "            z_t = self.sigmoid(self.W_zx @ x_t + self.W_zh @ h_prev + self.bias_z)\n",
    "            h_tilda_t = self.tanh(self.W @ x_t + self.W_2 @ (r_t * h_prev) + self.bias_h)\n",
    "            h_t = z_t * h_prev + (1 - z_t) * h_tilda_t\n",
    "\n",
    "            h_prev = h_t\n",
    "\n",
    "\n",
    "        output = h_prev.squeeze(dim=-1) # (num_examples, vocab_size)\n",
    "\n",
    "        probs = self.softmax(output)\n",
    "        return probs\n",
    "\n",
    "class LSTM(nn.Module):\n",
    "    \"\"\"http://www.bioinf.jku.at/publications/older/2604.pdf\"\"\"\n",
    "    def __init__(self, vocab_size: int, seq_len: int=8, embed_dim: int=16):\n",
    "        super().__init__()\n",
    "        self.vocab_size = vocab_size\n",
    "        self.embed_dim = embed_dim\n",
    "        self.seq_len = seq_len\n",
    "\n",
    "        self.embedding = nn.Embedding(vocab_size, embed_dim)\n",
    "\n",
    "        self.tanh = nn.Tanh()\n",
    "        self.sigmoid = nn.Sigmoid()\n",
    "        self.softmax = nn.Softmax(dim=1)\n",
    "    \n",
    "    def forward(self, X):\n",
    "        \"\"\"Input has shape (num_examples, seq_len)\"\"\"\n",
    "\n",
    "        # Check input is correct size\n",
    "        if X.shape[1] != self.seq_len:\n",
    "            raise Exception(\"Words input is not equal to seq_len of \" + str(self.seq_len))\n",
    "\n",
    "        x = self.embedding(X) # (num_examples, seq_len, embed_dim)\n",
    "        h_prev = torch.randn(1, x.shape[0], self.vocab_size) # (num_layers, num_examples, vocab_size)\n",
    "        c_prev = torch.randn(1, x.shape[0], self.vocab_size) # (num_layers, num_examples, vocab_size)\n",
    "\n",
    "        for i in range(self.seq_len):\n",
    "            x_t = x[:, i, :]\n",
    "            i_t = self.sigmoid(self.W_xi @ x_t + self.W_hi @ h_prev + self.bias_i)\n",
    "            f_t = self.sigmoid(self.W_xf @ x_t + self.W_hf @ h_prev + self.bias_f)\n",
    "            o_t = self.sigmoid(self.W_xo @ x_t + self.W_ho @ h_prev + self.bias_o)\n",
    "            g_t = self.tanh(self.W_xg @ x_t + self.W_hg @ h_prev + self.bias_g)\n",
    "\n",
    "            c_t = f_t * c_prev + i_t * g_t\n",
    "            h_t = o_t * self.tanh(c_t)\n",
    "\n",
    "            h_prev = h_t\n",
    "            c_prev = c_t\n",
    "            \n",
    "\n",
    "        output = h_prev[:, -1, :] # Because only want last output\n",
    "\n",
    "        probs = self.softmax(output)\n",
    "        return probs"
   ]
  }
 ],
 "metadata": {
  "kernelspec": {
   "display_name": "Python 3.10.8 64-bit",
   "language": "python",
   "name": "python3"
  },
  "language_info": {
   "codemirror_mode": {
    "name": "ipython",
    "version": 3
   },
   "file_extension": ".py",
   "mimetype": "text/x-python",
   "name": "python",
   "nbconvert_exporter": "python",
   "pygments_lexer": "ipython3",
   "version": "3.10.8"
  },
  "orig_nbformat": 4,
  "vscode": {
   "interpreter": {
    "hash": "b0fa6594d8f4cbf19f97940f81e996739fb7646882a419484c72d19e05852a7e"
   }
  }
 },
 "nbformat": 4,
 "nbformat_minor": 2
}
